{
 "cells": [
  {
   "metadata": {},
   "cell_type": "markdown",
   "source": "# Import Packages",
   "id": "39307e7ac58ec68"
  },
  {
   "metadata": {
    "ExecuteTime": {
     "end_time": "2024-12-16T21:07:35.355675Z",
     "start_time": "2024-12-16T21:07:35.352517Z"
    }
   },
   "cell_type": "code",
   "source": [
    "import time\n",
    "import numpy as np\n",
    "import pandas as pd\n",
    "from matplotlib import pyplot as plt\n",
    "import seaborn as sns\n",
    "import lightgbm as lgb\n",
    "import warnings\n",
    "\n",
    "from anaysis.src.bivariate_analysis import BivariateAnalyzer, CategoricalVsNumericalAnalysis\n",
    "\n",
    "pd.set_option('display.max_columns', None)\n",
    "pd.set_option('display.width', 500)\n",
    "warnings.filterwarnings('ignore')"
   ],
   "id": "8603194608fed68c",
   "outputs": [],
   "execution_count": 26
  },
  {
   "metadata": {},
   "cell_type": "markdown",
   "source": "# Loading data",
   "id": "88790c7726462b4"
  },
  {
   "metadata": {
    "ExecuteTime": {
     "end_time": "2024-12-16T20:26:25.602248Z",
     "start_time": "2024-12-16T20:26:25.461800Z"
    }
   },
   "cell_type": "code",
   "source": [
    "train_data = pd.read_csv('../data/train.csv')\n",
    "test_data = pd.read_csv('../data/test.csv')\n",
    "data = pd.concat([train_data, test_data], sort=False)"
   ],
   "id": "8c2c3b606ffc5733",
   "outputs": [],
   "execution_count": 9
  },
  {
   "metadata": {},
   "cell_type": "markdown",
   "source": [
    "# Exploratory Data Analysis\n",
    "## Date Ranges"
   ],
   "id": "5203879c66515c75"
  },
  {
   "metadata": {
    "ExecuteTime": {
     "end_time": "2024-12-16T20:17:06.394192Z",
     "start_time": "2024-12-16T20:17:06.329352Z"
    }
   },
   "cell_type": "code",
   "source": [
    "print(f\"Min Date: {data['date'].min()}\")\n",
    "print(f\"Max Date: {data['date'].max()}\")"
   ],
   "id": "8005be6c3da7d3f8",
   "outputs": [
    {
     "name": "stdout",
     "output_type": "stream",
     "text": [
      "Min Date: 2013-01-01\n",
      "Max Date: 2018-03-31\n"
     ]
    }
   ],
   "execution_count": 4
  },
  {
   "metadata": {},
   "cell_type": "markdown",
   "source": [
    "#### Key Observations\n",
    "- The data spans from January 1, 2013 to March 31, 2018.\n",
    "- The range covers approximately 5+ years, suggesting a relatively long observation period."
   ],
   "id": "3b39f109195b29e9"
  },
  {
   "metadata": {},
   "cell_type": "markdown",
   "source": "## Shape of DataFrame",
   "id": "26bf1e3c5826358c"
  },
  {
   "metadata": {
    "ExecuteTime": {
     "end_time": "2024-12-16T20:19:44.598457Z",
     "start_time": "2024-12-16T20:19:44.593938Z"
    }
   },
   "cell_type": "code",
   "source": "print(data.shape)",
   "id": "a66d101a45108bbc",
   "outputs": [
    {
     "name": "stdout",
     "output_type": "stream",
     "text": [
      "(958000, 5)\n"
     ]
    }
   ],
   "execution_count": 5
  },
  {
   "metadata": {},
   "cell_type": "markdown",
   "source": [
    "#### Key Observations\n",
    "- The dataset comprises 958,000 records and 5 features, providing a substantial volume of data for analysis. Each record represents an observation, and the 5 features offer key attributes to explore relationships, trends, and patterns within the data"
   ],
   "id": "f391906a59c7f52d"
  },
  {
   "metadata": {},
   "cell_type": "markdown",
   "source": "## Unique values for each feature",
   "id": "d4b212ceee190465"
  },
  {
   "metadata": {
    "ExecuteTime": {
     "end_time": "2024-12-16T20:22:50.947804Z",
     "start_time": "2024-12-16T20:22:50.888577Z"
    }
   },
   "cell_type": "code",
   "source": "data.nunique()",
   "id": "d7842a00eb13a41c",
   "outputs": [
    {
     "data": {
      "text/plain": [
       "date      1916\n",
       "store       10\n",
       "item        50\n",
       "sales      213\n",
       "id       45000\n",
       "dtype: int64"
      ]
     },
     "execution_count": 6,
     "metadata": {},
     "output_type": "execute_result"
    }
   ],
   "execution_count": 6
  },
  {
   "metadata": {},
   "cell_type": "markdown",
   "source": [
    "#### Key Observations\n",
    "- The dataset comprises 1,916 unique dates, 10 distinct stores, 50 unique items, and 213 unique sales values. This rich structure enables a detailed analysis of sales patterns over time, item performance across different stores, and trends in sales values."
   ],
   "id": "2b75d2486f5eec0f"
  },
  {
   "metadata": {},
   "cell_type": "markdown",
   "source": "## Observing first and last 5 entries",
   "id": "c44c66e7258e2abb"
  },
  {
   "metadata": {
    "ExecuteTime": {
     "end_time": "2024-12-16T20:27:42.726184Z",
     "start_time": "2024-12-16T20:27:42.719776Z"
    }
   },
   "cell_type": "code",
   "source": [
    "print(data.head())\n",
    "print(data.tail())"
   ],
   "id": "4628d2e6bd6cc1b",
   "outputs": [
    {
     "name": "stdout",
     "output_type": "stream",
     "text": [
      "         date  store  item  sales  id\n",
      "0  2013-01-01      1     1   13.0 NaN\n",
      "1  2013-01-02      1     1   11.0 NaN\n",
      "2  2013-01-03      1     1   14.0 NaN\n",
      "3  2013-01-04      1     1   13.0 NaN\n",
      "4  2013-01-05      1     1   10.0 NaN\n",
      "             date  store  item  sales       id\n",
      "44995  2018-03-27     10    50    NaN  44995.0\n",
      "44996  2018-03-28     10    50    NaN  44996.0\n",
      "44997  2018-03-29     10    50    NaN  44997.0\n",
      "44998  2018-03-30     10    50    NaN  44998.0\n",
      "44999  2018-03-31     10    50    NaN  44999.0\n"
     ]
    }
   ],
   "execution_count": 10
  },
  {
   "metadata": {},
   "cell_type": "markdown",
   "source": [
    "#### Key Insights\n",
    "- Sales Column: `NaN` values at the end represent missing target values in the test dataset, which need to be predicted.\n",
    "- ID Column: Missing `id` values in the train set are expected since they are not required for model training.\n",
    "## Descriptive Statistics"
   ],
   "id": "6eba10df4cae9736"
  },
  {
   "metadata": {
    "ExecuteTime": {
     "end_time": "2024-12-16T20:33:04.316281Z",
     "start_time": "2024-12-16T20:33:04.246554Z"
    }
   },
   "cell_type": "code",
   "source": "print(data.describe().T)",
   "id": "4d35c2780b24ea9e",
   "outputs": [
    {
     "name": "stdout",
     "output_type": "stream",
     "text": [
      "          count          mean           std  min       25%      50%       75%      max\n",
      "store  958000.0      5.500000      2.872283  1.0      3.00      5.5      8.00     10.0\n",
      "item   958000.0     25.500000     14.430877  1.0     13.00     25.5     38.00     50.0\n",
      "sales  913000.0     52.250287     28.801144  0.0     30.00     47.0     70.00    231.0\n",
      "id      45000.0  22499.500000  12990.525394  0.0  11249.75  22499.5  33749.25  44999.0\n"
     ]
    }
   ],
   "execution_count": 15
  },
  {
   "metadata": {},
   "cell_type": "markdown",
   "source": [
    "#### Key Insights\n",
    "- **Missing Sales Data:** The discrepancy in sales count (913,000 vs. 958,000) confirms missing sales values in the test dataset.\n",
    "- **Sales Distribution:** Sales are right-skewed, as the mean (52.25) is greater than the median (47.0). This suggests that while most sales hover around 30–70, there are some higher sales values (up to 231) contributing to the skew.\n",
    "- **Even Distribution of Stores and Items:** Both store and item values are evenly spread across their respective ranges, which is useful for balanced analysis."
   ],
   "id": "90fe3d8aaf8ed4e9"
  },
  {
   "metadata": {},
   "cell_type": "markdown",
   "source": "## Sales by Store",
   "id": "5e6ff38ee2da16ed"
  },
  {
   "metadata": {
    "ExecuteTime": {
     "end_time": "2024-12-16T21:08:29.185772Z",
     "start_time": "2024-12-16T21:08:29.049115Z"
    }
   },
   "cell_type": "code",
   "source": [
    "bivariate_Analyzer = BivariateAnalyzer(CategoricalVsNumericalAnalysis())\n",
    "bivariate_Analyzer.analyze(data, 'store', 'sales')"
   ],
   "id": "d8aa397444a37c06",
   "outputs": [
    {
     "data": {
      "text/plain": [
       "<Figure size 1500x600 with 1 Axes>"
      ],
      "image/png": "[encoded data removed]"
     },
     "metadata": {},
     "output_type": "display_data"
    }
   ],
   "execution_count": 27
  },
  {
   "metadata": {},
   "cell_type": "markdown",
   "source": "## Sales by Item",
   "id": "5e5b3e446c10b25b"
  },
  {
   "metadata": {
    "ExecuteTime": {
     "end_time": "2024-12-16T21:08:42.250906Z",
     "start_time": "2024-12-16T21:08:42.010320Z"
    }
   },
   "cell_type": "code",
   "source": [
    "bivariate_Analyzer = BivariateAnalyzer(CategoricalVsNumericalAnalysis())\n",
    "bivariate_Analyzer.analyze(data, 'item', 'sales')"
   ],
   "id": "88ef6d3fecfaac2",
   "outputs": [
    {
     "data": {
      "text/plain": [
       "<Figure size 1500x600 with 1 Axes>"
      ],
      "image/png": "[encoded data removed]"
     },
     "metadata": {},
     "output_type": "display_data"
    }
   ],
   "execution_count": 28
  },
  {
   "metadata": {},
   "cell_type": "markdown",
   "source": "# Sales by Store and Item",
   "id": "f7c8af1260bf05a2"
  },
  {
   "metadata": {
    "ExecuteTime": {
     "end_time": "2024-12-16T20:43:15.066434Z",
     "start_time": "2024-12-16T20:43:14.988253Z"
    }
   },
   "cell_type": "code",
   "source": "data.groupby([\"store\", \"item\"]).agg({\"sales\": [\"sum\", \"mean\", \"median\", \"std\"]})",
   "id": "3edb9caa01136e02",
   "outputs": [
    {
     "data": {
      "text/plain": [
       "               sales                             \n",
       "                 sum       mean median        std\n",
       "store item                                       \n",
       "1     1      36468.0  19.971522   19.0   6.741022\n",
       "      2      97050.0  53.148959   52.0  15.005779\n",
       "      3      60638.0  33.208105   33.0  10.072529\n",
       "      4      36440.0  19.956188   20.0   6.640618\n",
       "      5      30335.0  16.612815   16.0   5.672102\n",
       "...              ...        ...    ...        ...\n",
       "10    46    120601.0  66.046550   65.0  18.114991\n",
       "      47     45204.0  24.755750   24.0   7.924820\n",
       "      48    105570.0  57.814896   57.0  15.898538\n",
       "      49     60317.0  33.032311   32.0  10.091610\n",
       "      50    135192.0  74.037240   73.0  19.937566\n",
       "\n",
       "[500 rows x 4 columns]"
      ],
      "text/html": [
       "<div>\n",
       "<style scoped>\n",
       "    .dataframe tbody tr th:only-of-type {\n",
       "        vertical-align: middle;\n",
       "    }\n",
       "\n",
       "    .dataframe tbody tr th {\n",
       "        vertical-align: top;\n",
       "    }\n",
       "\n",
       "    .dataframe thead tr th {\n",
       "        text-align: left;\n",
       "    }\n",
       "\n",
       "    .dataframe thead tr:last-of-type th {\n",
       "        text-align: right;\n",
       "    }\n",
       "</style>\n",
       "<table border=\"1\" class=\"dataframe\">\n",
       "  <thead>\n",
       "    <tr>\n",
       "      <th></th>\n",
       "      <th></th>\n",
       "      <th colspan=\"4\" halign=\"left\">sales</th>\n",
       "    </tr>\n",
       "    <tr>\n",
       "      <th></th>\n",
       "      <th></th>\n",
       "      <th>sum</th>\n",
       "      <th>mean</th>\n",
       "      <th>median</th>\n",
       "      <th>std</th>\n",
       "    </tr>\n",
       "    <tr>\n",
       "      <th>store</th>\n",
       "      <th>item</th>\n",
       "      <th></th>\n",
       "      <th></th>\n",
       "      <th></th>\n",
       "      <th></th>\n",
       "    </tr>\n",
       "  </thead>\n",
       "  <tbody>\n",
       "    <tr>\n",
       "      <th rowspan=\"5\" valign=\"top\">1</th>\n",
       "      <th>1</th>\n",
       "      <td>36468.0</td>\n",
       "      <td>19.971522</td>\n",
       "      <td>19.0</td>\n",
       "      <td>6.741022</td>\n",
       "    </tr>\n",
       "    <tr>\n",
       "      <th>2</th>\n",
       "      <td>97050.0</td>\n",
       "      <td>53.148959</td>\n",
       "      <td>52.0</td>\n",
       "      <td>15.005779</td>\n",
       "    </tr>\n",
       "    <tr>\n",
       "      <th>3</th>\n",
       "      <td>60638.0</td>\n",
       "      <td>33.208105</td>\n",
       "      <td>33.0</td>\n",
       "      <td>10.072529</td>\n",
       "    </tr>\n",
       "    <tr>\n",
       "      <th>4</th>\n",
       "      <td>36440.0</td>\n",
       "      <td>19.956188</td>\n",
       "      <td>20.0</td>\n",
       "      <td>6.640618</td>\n",
       "    </tr>\n",
       "    <tr>\n",
       "      <th>5</th>\n",
       "      <td>30335.0</td>\n",
       "      <td>16.612815</td>\n",
       "      <td>16.0</td>\n",
       "      <td>5.672102</td>\n",
       "    </tr>\n",
       "    <tr>\n",
       "      <th>...</th>\n",
       "      <th>...</th>\n",
       "      <td>...</td>\n",
       "      <td>...</td>\n",
       "      <td>...</td>\n",
       "      <td>...</td>\n",
       "    </tr>\n",
       "    <tr>\n",
       "      <th rowspan=\"5\" valign=\"top\">10</th>\n",
       "      <th>46</th>\n",
       "      <td>120601.0</td>\n",
       "      <td>66.046550</td>\n",
       "      <td>65.0</td>\n",
       "      <td>18.114991</td>\n",
       "    </tr>\n",
       "    <tr>\n",
       "      <th>47</th>\n",
       "      <td>45204.0</td>\n",
       "      <td>24.755750</td>\n",
       "      <td>24.0</td>\n",
       "      <td>7.924820</td>\n",
       "    </tr>\n",
       "    <tr>\n",
       "      <th>48</th>\n",
       "      <td>105570.0</td>\n",
       "      <td>57.814896</td>\n",
       "      <td>57.0</td>\n",
       "      <td>15.898538</td>\n",
       "    </tr>\n",
       "    <tr>\n",
       "      <th>49</th>\n",
       "      <td>60317.0</td>\n",
       "      <td>33.032311</td>\n",
       "      <td>32.0</td>\n",
       "      <td>10.091610</td>\n",
       "    </tr>\n",
       "    <tr>\n",
       "      <th>50</th>\n",
       "      <td>135192.0</td>\n",
       "      <td>74.037240</td>\n",
       "      <td>73.0</td>\n",
       "      <td>19.937566</td>\n",
       "    </tr>\n",
       "  </tbody>\n",
       "</table>\n",
       "<p>500 rows × 4 columns</p>\n",
       "</div>"
      ]
     },
     "execution_count": 21,
     "metadata": {},
     "output_type": "execute_result"
    }
   ],
   "execution_count": 21
  },
  {
   "metadata": {},
   "cell_type": "code",
   "outputs": [],
   "execution_count": null,
   "source": "",
   "id": "100d1183e44353b"
  }
 ],
 "metadata": {
  "kernelspec": {
   "display_name": "Python 3",
   "language": "python",
   "name": "python3"
  },
  "language_info": {
   "codemirror_mode": {
    "name": "ipython",
    "version": 2
   },
   "file_extension": ".py",
   "mimetype": "text/x-python",
   "name": "python",
   "nbconvert_exporter": "python",
   "pygments_lexer": "ipython2",
   "version": "2.7.6"
  }
 },
 "nbformat": 4,
 "nbformat_minor": 5
}
